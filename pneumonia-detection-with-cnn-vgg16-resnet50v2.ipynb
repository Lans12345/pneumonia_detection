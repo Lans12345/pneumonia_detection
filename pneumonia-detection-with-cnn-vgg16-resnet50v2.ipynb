{
 "cells": [
  {
   "cell_type": "code",
   "execution_count": null,
   "metadata": {
    "execution": {
     "iopub.execute_input": "2022-12-13T14:35:14.900631Z",
     "iopub.status.busy": "2022-12-13T14:35:14.900157Z",
     "iopub.status.idle": "2022-12-13T14:35:14.921741Z",
     "shell.execute_reply": "2022-12-13T14:35:14.920813Z",
     "shell.execute_reply.started": "2022-12-13T14:35:14.900536Z"
    },
    "papermill": {
     "duration": 0.10704,
     "end_time": "2022-12-11T11:54:34.546555",
     "exception": false,
     "start_time": "2022-12-11T11:54:34.439515",
     "status": "completed"
    },
    "tags": []
   },
   "outputs": [],
   "source": [
    "#!pip install -U git+https://github.com/albumentations-team/albumentations\n",
    "#!pip install np_utils"
   ]
  },
  {
   "cell_type": "code",
   "execution_count": null,
   "metadata": {
    "execution": {
     "iopub.execute_input": "2022-12-14T06:44:54.647728Z",
     "iopub.status.busy": "2022-12-14T06:44:54.646932Z",
     "iopub.status.idle": "2022-12-14T06:45:03.662584Z",
     "shell.execute_reply": "2022-12-14T06:45:03.661494Z",
     "shell.execute_reply.started": "2022-12-14T06:44:54.647631Z"
    },
    "papermill": {
     "duration": 7.464591,
     "end_time": "2022-12-11T11:54:42.037297",
     "exception": false,
     "start_time": "2022-12-11T11:54:34.572706",
     "status": "completed"
    },
    "tags": []
   },
   "outputs": [],
   "source": [
    "%%time\n",
    "\n",
    "import numpy as np\n",
    "import pandas as pd\n",
    "import matplotlib\n",
    "import matplotlib.pyplot as plt\n",
    "import cv2, os, random\n",
    "import plotly\n",
    "import plotly.graph_objs as go\n",
    "import plotly.express as px\n",
    "from plotly.offline import init_notebook_mode, plot, iplot\n",
    "\n",
    "#____________________________________________________________\n",
    "\n",
    "import glob\n",
    "import tensorflow\n",
    "from tensorflow.keras.preprocessing.image import array_to_img, img_to_array, load_img\n",
    "from tensorflow.keras.layers import Conv2D, Flatten, MaxPooling2D, Dense, Dropout, BatchNormalization\n",
    "from tensorflow.keras.models import Sequential\n",
    "from mlxtend.plotting import plot_confusion_matrix\n",
    "from tensorflow.keras.preprocessing import image\n",
    "from tensorflow.keras.preprocessing.image import ImageDataGenerator\n",
    "from sklearn.metrics import classification_report, confusion_matrix, accuracy_score\n",
    "from tensorflow.keras.callbacks import ReduceLROnPlateau\n",
    "from tensorflow.keras.applications.vgg16 import VGG16\n",
    "from sklearn.model_selection import train_test_split\n",
    "\n",
    "#____________________________________________________________\n",
    "\n",
    "from tqdm.notebook import tqdm\n",
    "from termcolor import colored\n",
    "import albumentations as A\n",
    "\n",
    "#____________________________________________________________\n",
    "\n",
    "from warnings import filterwarnings\n",
    "filterwarnings(\"ignore\")\n",
    "\n",
    "from sklearn import set_config\n",
    "set_config(print_changed_only = False)\n",
    "directory = \"../input/chest-xray-pneumonia/chest_xray/\"\n",
    "\n",
    "#____________________________________________________________\n",
    "\n",
    "print(colored(\"Required libraries were succesfully imported...\", color = \"green\", attrs = [\"bold\", \"dark\"]))"
   ]
  },
  {
   "cell_type": "markdown",
   "metadata": {},
   "source": [
    "### Check GPU"
   ]
  },
  {
   "cell_type": "code",
   "execution_count": null,
   "metadata": {
    "execution": {
     "iopub.execute_input": "2022-12-14T06:03:22.56803Z",
     "iopub.status.busy": "2022-12-14T06:03:22.567245Z",
     "iopub.status.idle": "2022-12-14T06:03:22.594427Z",
     "shell.execute_reply": "2022-12-14T06:03:22.5935Z",
     "shell.execute_reply.started": "2022-12-14T06:03:22.567993Z"
    }
   },
   "outputs": [],
   "source": [
    "print(tensorflow.config.list_physical_devices(\"GPU\"))\n",
    "\n",
    "print(\"________________________________________________\")\n",
    "\n",
    "print(tensorflow.test.is_gpu_available(cuda_only = False, min_cuda_compute_capability = None))"
   ]
  },
  {
   "cell_type": "code",
   "execution_count": null,
   "metadata": {
    "execution": {
     "iopub.execute_input": "2022-12-14T06:03:47.817462Z",
     "iopub.status.busy": "2022-12-14T06:03:47.817012Z",
     "iopub.status.idle": "2022-12-14T06:03:47.824686Z",
     "shell.execute_reply": "2022-12-14T06:03:47.823319Z",
     "shell.execute_reply.started": "2022-12-14T06:03:47.817425Z"
    }
   },
   "outputs": [],
   "source": [
    "print(\"Current tensorflow version == {}\".format(tensorflow. __version__))"
   ]
  },
  {
   "cell_type": "markdown",
   "metadata": {},
   "source": []
  },
  {
   "cell_type": "code",
   "execution_count": null,
   "metadata": {
    "execution": {
     "iopub.execute_input": "2022-12-13T18:09:49.925408Z",
     "iopub.status.busy": "2022-12-13T18:09:49.925022Z",
     "iopub.status.idle": "2022-12-13T18:09:50.155958Z",
     "shell.execute_reply": "2022-12-13T18:09:50.154441Z",
     "shell.execute_reply.started": "2022-12-13T18:09:49.925377Z"
    },
    "papermill": {
     "duration": 0.278597,
     "end_time": "2022-12-11T11:54:42.394474",
     "exception": false,
     "start_time": "2022-12-11T11:54:42.115877",
     "status": "completed"
    },
    "tags": []
   },
   "outputs": [],
   "source": [
    "%%time\n",
    "\n",
    "train_df = glob.glob(\"../input/chest-xray-pneumonia/chest_xray/train/**/*.jpeg\")\n",
    "test_df = glob.glob(\"../input/chest-xray-pneumonia/chest_xray/test/**/*.jpeg\")\n",
    "validation_df = glob.glob(\"../input/chest-xray-pneumonia/chest_xray/val/**/*.jpeg\")\n",
    "\n",
    "print(colored(\"The datasets were succesfully loaded...\", color = \"green\", attrs = [\"bold\", \"dark\"]))"
   ]
  },
  {
   "cell_type": "markdown",
   "metadata": {},
   "source": [
    "#### <span style='background:#4A1810;color:#ffffff;'> Look at train and test sets </span>"
   ]
  },
  {
   "cell_type": "code",
   "execution_count": null,
   "metadata": {
    "execution": {
     "iopub.execute_input": "2022-12-13T18:09:54.662525Z",
     "iopub.status.busy": "2022-12-13T18:09:54.662134Z",
     "iopub.status.idle": "2022-12-13T18:09:54.672984Z",
     "shell.execute_reply": "2022-12-13T18:09:54.671647Z",
     "shell.execute_reply.started": "2022-12-13T18:09:54.662492Z"
    }
   },
   "outputs": [],
   "source": [
    "train_df[:5], test_df[:5]"
   ]
  },
  {
   "cell_type": "markdown",
   "metadata": {},
   "source": []
  },
  {
   "cell_type": "markdown",
   "metadata": {
    "papermill": {
     "duration": 0.026035,
     "end_time": "2022-12-11T11:54:42.498747",
     "exception": false,
     "start_time": "2022-12-11T11:54:42.472712",
     "status": "completed"
    },
    "tags": []
   },
   "source": [
    "#### <span style='background:#4A1810;color:#ffffff;'> How many images are in each dataset? </span>"
   ]
  },
  {
   "cell_type": "code",
   "execution_count": null,
   "metadata": {
    "execution": {
     "iopub.execute_input": "2022-12-14T06:45:03.664961Z",
     "iopub.status.busy": "2022-12-14T06:45:03.664166Z",
     "iopub.status.idle": "2022-12-14T06:45:04.04774Z",
     "shell.execute_reply": "2022-12-14T06:45:04.046259Z",
     "shell.execute_reply.started": "2022-12-14T06:45:03.664927Z"
    },
    "papermill": {
     "duration": 0.035624,
     "end_time": "2022-12-11T11:54:42.560607",
     "exception": false,
     "start_time": "2022-12-11T11:54:42.524983",
     "status": "completed"
    },
    "tags": []
   },
   "outputs": [],
   "source": [
    "print(\"There is {} images in the training dataset\".format(len(train_df)))\n",
    "print(\"There is {} images in the test dataset\".format(len(test_df)))\n",
    "print(\"There is {} images in the validation dataset\".format(len(validation_df)))"
   ]
  },
  {
   "cell_type": "markdown",
   "metadata": {
    "papermill": {
     "duration": 0.025947,
     "end_time": "2022-12-11T11:54:42.612653",
     "exception": false,
     "start_time": "2022-12-11T11:54:42.586706",
     "status": "completed"
    },
    "tags": []
   },
   "source": [
    "#### <span style='background:#4A1810;color:#ffffff;'> How many of the pictures are of pneumonic lungs and how many are of normal lungs </span>"
   ]
  },
  {
   "cell_type": "code",
   "execution_count": null,
   "metadata": {
    "execution": {
     "iopub.execute_input": "2022-12-13T18:10:02.898965Z",
     "iopub.status.busy": "2022-12-13T18:10:02.898526Z",
     "iopub.status.idle": "2022-12-13T18:10:02.935361Z",
     "shell.execute_reply": "2022-12-13T18:10:02.934019Z",
     "shell.execute_reply.started": "2022-12-13T18:10:02.89893Z"
    },
    "papermill": {
     "duration": 0.053869,
     "end_time": "2022-12-11T11:54:42.692713",
     "exception": false,
     "start_time": "2022-12-11T11:54:42.638844",
     "status": "completed"
    },
    "tags": []
   },
   "outputs": [],
   "source": [
    "datasets, pneumonia_lung, normal_lung = [\"train\", \"test\", \"val\"], [], []\n",
    "\n",
    "for i in datasets:\n",
    "    path = os.path.join(directory, i)\n",
    "    normal = glob.glob(os.path.join(path, \"NORMAL/*.jpeg\"))\n",
    "    pneumonia = glob.glob(os.path.join(path, \"PNEUMONIA/*.jpeg\"))\n",
    "    normal_lung.extend(normal), pneumonia_lung.extend(pneumonia)\n",
    "\n",
    "print(\"The number of pneumonia images is {}\".format(len(pneumonia_lung)))\n",
    "print(\"The number of non-pneumonia images is {}\".format(len(normal_lung)))"
   ]
  },
  {
   "cell_type": "markdown",
   "metadata": {
    "papermill": {
     "duration": 0.026575,
     "end_time": "2022-12-11T11:54:42.745926",
     "exception": false,
     "start_time": "2022-12-11T11:54:42.719351",
     "status": "completed"
    },
    "tags": []
   },
   "source": [
    "#### <span style='background:#4A1810;color:#ffffff;'> Shuffle the images </span>"
   ]
  },
  {
   "cell_type": "code",
   "execution_count": null,
   "metadata": {
    "execution": {
     "iopub.execute_input": "2022-12-13T18:10:05.821806Z",
     "iopub.status.busy": "2022-12-13T18:10:05.82103Z",
     "iopub.status.idle": "2022-12-13T18:10:05.836222Z",
     "shell.execute_reply": "2022-12-13T18:10:05.835097Z",
     "shell.execute_reply.started": "2022-12-13T18:10:05.821767Z"
    },
    "papermill": {
     "duration": 0.042342,
     "end_time": "2022-12-11T11:54:42.815387",
     "exception": false,
     "start_time": "2022-12-11T11:54:42.773045",
     "status": "completed"
    },
    "tags": []
   },
   "outputs": [],
   "source": [
    "random.shuffle(normal_lung)\n",
    "random.shuffle(pneumonia_lung)\n",
    "images = normal_lung[:50] + pneumonia_lung[:50]\n",
    "images[:10]"
   ]
  },
  {
   "cell_type": "markdown",
   "metadata": {
    "papermill": {
     "duration": 0.026627,
     "end_time": "2022-12-11T11:54:42.869261",
     "exception": false,
     "start_time": "2022-12-11T11:54:42.842634",
     "status": "completed"
    },
    "tags": []
   },
   "source": [
    "#### <span style='background:#4A1810;color:#ffffff;'> View the images in X-ray format </span>\n",
    "\n",
    "<mark>X-ray imaging creates pictures of the inside of a body. The images show the parts of a body in different shades of black and white. This is because different tissues absorb different amounts of radiation. Calcium in bones absorbs x-rays the most, so bones look white</mark>"
   ]
  },
  {
   "cell_type": "code",
   "execution_count": null,
   "metadata": {
    "execution": {
     "iopub.execute_input": "2022-12-13T18:10:08.130047Z",
     "iopub.status.busy": "2022-12-13T18:10:08.129618Z",
     "iopub.status.idle": "2022-12-13T18:10:09.008653Z",
     "shell.execute_reply": "2022-12-13T18:10:09.007325Z",
     "shell.execute_reply.started": "2022-12-13T18:10:08.130011Z"
    }
   },
   "outputs": [],
   "source": [
    "normal_lung_image = load_img(\"/kaggle/input/chest-xray-pneumonia/chest_xray/train/NORMAL/IM-0115-0001.jpeg\")\n",
    "print(\"NORMAL\")\n",
    "plt.imshow(normal_lung_image)\n",
    "plt.show()"
   ]
  },
  {
   "cell_type": "code",
   "execution_count": null,
   "metadata": {
    "execution": {
     "iopub.execute_input": "2022-12-13T18:10:12.033039Z",
     "iopub.status.busy": "2022-12-13T18:10:12.032578Z",
     "iopub.status.idle": "2022-12-13T18:10:12.349338Z",
     "shell.execute_reply": "2022-12-13T18:10:12.348083Z",
     "shell.execute_reply.started": "2022-12-13T18:10:12.033001Z"
    }
   },
   "outputs": [],
   "source": [
    "normal_lung_image = load_img(\"/kaggle/input/chest-xray-pneumonia/chest_xray/train/PNEUMONIA/person1000_bacteria_2931.jpeg\")\n",
    "print(\"PNEUMONIA\")\n",
    "plt.imshow(normal_lung_image)\n",
    "plt.show()"
   ]
  },
  {
   "cell_type": "code",
   "execution_count": null,
   "metadata": {
    "execution": {
     "iopub.execute_input": "2022-12-13T18:10:15.35794Z",
     "iopub.status.busy": "2022-12-13T18:10:15.35746Z",
     "iopub.status.idle": "2022-12-13T18:10:17.717702Z",
     "shell.execute_reply": "2022-12-13T18:10:17.716444Z",
     "shell.execute_reply.started": "2022-12-13T18:10:15.357874Z"
    },
    "papermill": {
     "duration": 2.228643,
     "end_time": "2022-12-11T11:54:45.124753",
     "exception": false,
     "start_time": "2022-12-11T11:54:42.89611",
     "status": "completed"
    },
    "tags": []
   },
   "outputs": [],
   "source": [
    "fig = plt.figure(figsize = (20, 15))\n",
    "columns, rows = 3, 3\n",
    "for i in range(1, 10):\n",
    "    img = cv2.imread(images[i])\n",
    "    img = cv2.resize(img, (512, 512))\n",
    "    fig.add_subplot(rows, columns, i)\n",
    "    plt.imshow(img)"
   ]
  },
  {
   "cell_type": "markdown",
   "metadata": {
    "papermill": {
     "duration": 0.05932,
     "end_time": "2022-12-11T11:54:45.258649",
     "exception": false,
     "start_time": "2022-12-11T11:54:45.199329",
     "status": "completed"
    },
    "tags": []
   },
   "source": [
    "#### <span style='background:#4A1810;color:#ffffff;'> Image erosion </span>"
   ]
  },
  {
   "cell_type": "code",
   "execution_count": null,
   "metadata": {
    "execution": {
     "iopub.execute_input": "2022-12-13T18:10:25.730618Z",
     "iopub.status.busy": "2022-12-13T18:10:25.730188Z",
     "iopub.status.idle": "2022-12-13T18:10:27.785481Z",
     "shell.execute_reply": "2022-12-13T18:10:27.78429Z",
     "shell.execute_reply.started": "2022-12-13T18:10:25.730583Z"
    },
    "papermill": {
     "duration": 2.142455,
     "end_time": "2022-12-11T11:54:47.460191",
     "exception": false,
     "start_time": "2022-12-11T11:54:45.317736",
     "status": "completed"
    },
    "tags": []
   },
   "outputs": [],
   "source": [
    "fig = plt.figure(figsize = (20, 15))\n",
    "columns, rows = 3, 3\n",
    "for i in range(1, 10):\n",
    "    img = cv2.imread(images[i])\n",
    "    img = cv2.resize(img, (512, 512))\n",
    "    img = cv2.cvtColor(img, cv2.COLOR_BGR2RGB)\n",
    "    kernel = np.ones((5, 5), np.uint8)\n",
    "    image_erosion = cv2.erode(img, kernel, iterations=3)\n",
    "    fig.add_subplot(rows, columns, i)\n",
    "    plt.imshow(image_erosion)"
   ]
  },
  {
   "cell_type": "markdown",
   "metadata": {
    "papermill": {
     "duration": 0.048721,
     "end_time": "2022-12-11T11:54:47.558223",
     "exception": false,
     "start_time": "2022-12-11T11:54:47.509502",
     "status": "completed"
    },
    "tags": []
   },
   "source": [
    "#### <span style='background:#4A1810;color:#ffffff;'> Image dilation </span>"
   ]
  },
  {
   "cell_type": "code",
   "execution_count": null,
   "metadata": {
    "execution": {
     "iopub.execute_input": "2022-12-13T18:10:30.580626Z",
     "iopub.status.busy": "2022-12-13T18:10:30.579615Z",
     "iopub.status.idle": "2022-12-13T18:10:32.61603Z",
     "shell.execute_reply": "2022-12-13T18:10:32.614655Z",
     "shell.execute_reply.started": "2022-12-13T18:10:30.580523Z"
    },
    "papermill": {
     "duration": 1.906784,
     "end_time": "2022-12-11T11:54:49.512235",
     "exception": false,
     "start_time": "2022-12-11T11:54:47.605451",
     "status": "completed"
    },
    "tags": []
   },
   "outputs": [],
   "source": [
    "fig = plt.figure(figsize = (20, 15))\n",
    "columns, rows = 3, 3\n",
    "\n",
    "for i in range(1, 10):\n",
    "    img = cv2.imread(images[i])\n",
    "    img = cv2.resize(img, (512, 512))\n",
    "    img = cv2.cvtColor(img, cv2.COLOR_BGR2RGB)\n",
    "    kernel = np.ones((5, 5), np.uint8)\n",
    "    image_dilation = cv2.dilate(img, kernel, iterations = 2)\n",
    "    fig.add_subplot(rows, columns, i)\n",
    "    plt.imshow(image_dilation)"
   ]
  },
  {
   "cell_type": "markdown",
   "metadata": {
    "papermill": {
     "duration": 0.057783,
     "end_time": "2022-12-11T11:54:49.629282",
     "exception": false,
     "start_time": "2022-12-11T11:54:49.571499",
     "status": "completed"
    },
    "tags": []
   },
   "source": [
    "#### <span style='background:#4A1810;color:#ffffff;'> Convert the images to greyscale and then apply Gaussian blur to them </span>"
   ]
  },
  {
   "cell_type": "code",
   "execution_count": null,
   "metadata": {
    "execution": {
     "iopub.execute_input": "2022-12-13T18:10:38.505402Z",
     "iopub.status.busy": "2022-12-13T18:10:38.505008Z",
     "iopub.status.idle": "2022-12-13T18:10:44.599826Z",
     "shell.execute_reply": "2022-12-13T18:10:44.598592Z",
     "shell.execute_reply.started": "2022-12-13T18:10:38.505371Z"
    },
    "papermill": {
     "duration": 5.640078,
     "end_time": "2022-12-11T11:54:55.326298",
     "exception": false,
     "start_time": "2022-12-11T11:54:49.68622",
     "status": "completed"
    },
    "tags": []
   },
   "outputs": [],
   "source": [
    "fig = plt.figure(figsize = (20, 15))\n",
    "columns, rows = 3, 3\n",
    "\n",
    "for i in range(1, 10):\n",
    "    img = cv2.imread(images[i])\n",
    "    img = cv2.resize(img, (512, 512))\n",
    "    img = cv2.cvtColor(img, cv2.COLOR_BGR2HSV)\n",
    "    img = cv2.addWeighted (img, 4, cv2.GaussianBlur(img, (0, 0), 512/10), -4, 128)\n",
    "    fig.add_subplot(rows, columns, i)\n",
    "    plt.imshow(img)\n",
    "    plt.axis(False)"
   ]
  },
  {
   "cell_type": "markdown",
   "metadata": {
    "papermill": {
     "duration": 0.075554,
     "end_time": "2022-12-11T11:54:55.475566",
     "exception": false,
     "start_time": "2022-12-11T11:54:55.400012",
     "status": "completed"
    },
    "tags": []
   },
   "source": [
    "#### <span style='background:#4A1810;color:#ffffff;'> Canny edge detection: </span>\n",
    "\n",
    "<mark>Canny edge detection is a technique to extract useful structural information from different vision objects and dramatically reduce the amount of data to be processed. It has been widely applied in various computer vision systems</mark>"
   ]
  },
  {
   "cell_type": "code",
   "execution_count": null,
   "metadata": {
    "execution": {
     "iopub.execute_input": "2022-12-13T18:10:48.660869Z",
     "iopub.status.busy": "2022-12-13T18:10:48.660402Z",
     "iopub.status.idle": "2022-12-13T18:10:50.590253Z",
     "shell.execute_reply": "2022-12-13T18:10:50.58925Z",
     "shell.execute_reply.started": "2022-12-13T18:10:48.66083Z"
    },
    "papermill": {
     "duration": 1.89164,
     "end_time": "2022-12-11T11:54:57.437646",
     "exception": false,
     "start_time": "2022-12-11T11:54:55.546006",
     "status": "completed"
    },
    "tags": []
   },
   "outputs": [],
   "source": [
    "fig = plt.figure(figsize = (20, 15))\n",
    "columns, rows = 3, 3\n",
    "\n",
    "for i in range(1, 10):\n",
    "    img = cv2.imread(images[i])\n",
    "    img = cv2.resize(img, (512, 512))\n",
    "    img = cv2.cvtColor(img, cv2.COLOR_BGR2RGB)\n",
    "    detected_edges = cv2.Canny(img, 80, 100)\n",
    "    fig.add_subplot(rows, columns, i)\n",
    "    plt.imshow(detected_edges)"
   ]
  },
  {
   "cell_type": "markdown",
   "metadata": {
    "papermill": {
     "duration": 0.08642,
     "end_time": "2022-12-11T11:54:57.611184",
     "exception": false,
     "start_time": "2022-12-11T11:54:57.524764",
     "status": "completed"
    },
    "tags": []
   },
   "source": []
  },
  {
   "cell_type": "code",
   "execution_count": null,
   "metadata": {
    "execution": {
     "iopub.execute_input": "2022-12-14T06:45:06.004938Z",
     "iopub.status.busy": "2022-12-14T06:45:06.004533Z",
     "iopub.status.idle": "2022-12-14T06:45:06.010596Z",
     "shell.execute_reply": "2022-12-14T06:45:06.009373Z",
     "shell.execute_reply.started": "2022-12-14T06:45:06.004905Z"
    }
   },
   "outputs": [],
   "source": [
    "train_dir = \"../input/chest-xray-pneumonia/chest_xray/train\"\n",
    "test_dir = \"../input/chest-xray-pneumonia/chest_xray/test\"\n",
    "validation_dir = \"../input/chest-xray-pneumonia/chest_xray/val\""
   ]
  },
  {
   "cell_type": "code",
   "execution_count": null,
   "metadata": {
    "execution": {
     "iopub.execute_input": "2022-12-14T06:45:08.250787Z",
     "iopub.status.busy": "2022-12-14T06:45:08.250367Z",
     "iopub.status.idle": "2022-12-14T06:45:10.028175Z",
     "shell.execute_reply": "2022-12-14T06:45:10.027066Z",
     "shell.execute_reply.started": "2022-12-14T06:45:08.250751Z"
    },
    "papermill": {
     "duration": 0.091944,
     "end_time": "2022-12-11T11:54:57.787028",
     "exception": false,
     "start_time": "2022-12-11T11:54:57.695084",
     "status": "completed"
    },
    "tags": []
   },
   "outputs": [],
   "source": [
    "%%time\n",
    "\n",
    "train_datagen = ImageDataGenerator(\n",
    "            rescale = 1/255.,\n",
    "            horizontal_flip = True,\n",
    "            vertical_flip = True,\n",
    "            rotation_range = 0.3,\n",
    "            zca_whitening = True,\n",
    "            width_shift_range = 0.25,\n",
    "            height_shift_range = 0.25,\n",
    "            channel_shift_range = 0.35,\n",
    "            shear_range = 0.2,\n",
    "            zoom_range = 0.4)\n",
    "\n",
    "val_test_datagen = ImageDataGenerator(rescale = 1./255)\n",
    "\n",
    "train_set = train_datagen.flow_from_directory(train_dir, class_mode = \"binary\", batch_size = 16, target_size = (224, 224))\n",
    "validation_set = val_test_datagen.flow_from_directory(validation_dir, class_mode = \"binary\", batch_size = 16, target_size = (224, 224))\n",
    "test_set = val_test_datagen.flow_from_directory(test_dir, class_mode = \"binary\", batch_size = 16, target_size = (224, 224))"
   ]
  },
  {
   "cell_type": "markdown",
   "metadata": {},
   "source": [
    "#### <span style='background:#4A1810;color:#ffffff;'> Cache and prefetch data </span>\n",
    "\n",
    "\n",
    "If we use <mark>flow_from_directory along with ImageDataGenerator()</mark> to set up the dataset, it will not be compatible with <mark>tensorflow.data.AUTOTUNE.</mark> Use <mark>tensorflow.keras.preprocessing.image_dataset_from_directory</mark> instead to load the dataset."
   ]
  },
  {
   "cell_type": "code",
   "execution_count": null,
   "metadata": {
    "execution": {
     "iopub.execute_input": "2022-12-13T18:16:09.078694Z",
     "iopub.status.busy": "2022-12-13T18:16:09.07829Z",
     "iopub.status.idle": "2022-12-13T18:16:09.084942Z",
     "shell.execute_reply": "2022-12-13T18:16:09.083377Z",
     "shell.execute_reply.started": "2022-12-13T18:16:09.078662Z"
    }
   },
   "outputs": [],
   "source": [
    "'''\n",
    "AUTOTUNE = tensorflow.data.experimental.AUTOTUNE\n",
    "\n",
    "train_set = train_set.cache().prefetch(buffer_size = AUTOTUNE)\n",
    "test_set = test_set.cache().prefetch(buffer_size = AUTOTUNE)\n",
    "validation_set = validation_set.cache().prefetch(buffer_size = AUTOTUNE)\n",
    "'''\n",
    "pass"
   ]
  },
  {
   "cell_type": "markdown",
   "metadata": {
    "papermill": {
     "duration": 0.083998,
     "end_time": "2022-12-11T11:55:00.097528",
     "exception": false,
     "start_time": "2022-12-11T11:55:00.01353",
     "status": "completed"
    },
    "tags": []
   },
   "source": [
    "#### <span style='background:#4A1810;color:#ffffff;'> Build CNN model 🔺️ </span>"
   ]
  },
  {
   "cell_type": "markdown",
   "metadata": {},
   "source": []
  },
  {
   "cell_type": "code",
   "execution_count": null,
   "metadata": {
    "execution": {
     "iopub.execute_input": "2022-12-14T06:45:21.854564Z",
     "iopub.status.busy": "2022-12-14T06:45:21.854133Z",
     "iopub.status.idle": "2022-12-14T06:45:22.116662Z",
     "shell.execute_reply": "2022-12-14T06:45:22.115384Z",
     "shell.execute_reply.started": "2022-12-14T06:45:21.854531Z"
    },
    "papermill": {
     "duration": 2.686525,
     "end_time": "2022-12-11T11:55:02.869286",
     "exception": false,
     "start_time": "2022-12-11T11:55:00.182761",
     "status": "completed"
    },
    "tags": []
   },
   "outputs": [],
   "source": [
    "model1 = Sequential()\n",
    "\n",
    "#convolutional neural networks - CNNs\n",
    "model1.add(Conv2D(32, (3,3), strides = (1, 1),activation = \"relu\", padding = \"same\", input_shape = (224, 224, 3)))\n",
    "model1.add(MaxPooling2D(pool_size = (2, 2)))\n",
    "model1.add(Conv2D(64, (3,3), strides = (1, 1), padding = \"same\", activation = \"relu\"))\n",
    "model1.add(MaxPooling2D(pool_size = (2, 2)))\n",
    "model1.add(Dropout(0.2))\n",
    "model1.add(Conv2D(128, (3,3), strides = (1, 1), padding = \"same\", activation = \"relu\"))\n",
    "model1.add(MaxPooling2D(pool_size = (2, 2)))\n",
    "model1.add(Conv2D(256, (3,3), strides = (1, 1), padding = \"same\", activation = \"relu\"))\n",
    "model1.add(MaxPooling2D(pool_size = (2, 2)))\n",
    "model1.add(Dropout(0.2))\n",
    "model1.add(Flatten())\n",
    "\n",
    "#fully connected layer\n",
    "model1.add(Dense(128, activation = \"relu\"))\n",
    "model1.add(Dense(64, activation = \"relu\"))\n",
    "model1.add(Dense(32, activation = \"relu\"))\n",
    "model1.add(Dense(1, activation = \"sigmoid\"))\n",
    "model1.summary()"
   ]
  },
  {
   "cell_type": "markdown",
   "metadata": {
    "papermill": {
     "duration": 0.08516,
     "end_time": "2022-12-11T11:55:03.039924",
     "exception": false,
     "start_time": "2022-12-11T11:55:02.954764",
     "status": "completed"
    },
    "tags": []
   },
   "source": [
    "#### <span style='background:#4A1810;color:#ffffff;'> Compile the model </span>"
   ]
  },
  {
   "cell_type": "code",
   "execution_count": null,
   "metadata": {
    "execution": {
     "iopub.execute_input": "2022-12-14T06:45:43.512497Z",
     "iopub.status.busy": "2022-12-14T06:45:43.511476Z",
     "iopub.status.idle": "2022-12-14T06:45:43.532013Z",
     "shell.execute_reply": "2022-12-14T06:45:43.530888Z",
     "shell.execute_reply.started": "2022-12-14T06:45:43.512459Z"
    },
    "papermill": {
     "duration": 0.102291,
     "end_time": "2022-12-11T11:55:03.227719",
     "exception": false,
     "start_time": "2022-12-11T11:55:03.125428",
     "status": "completed"
    },
    "tags": []
   },
   "outputs": [],
   "source": [
    "model1.compile(optimizer = \"rmsprop\", loss = \"binary_crossentropy\", metrics = [\"accuracy\"])"
   ]
  },
  {
   "cell_type": "markdown",
   "metadata": {
    "papermill": {
     "duration": 0.089102,
     "end_time": "2022-12-11T11:55:03.40203",
     "exception": false,
     "start_time": "2022-12-11T11:55:03.312928",
     "status": "completed"
    },
    "tags": []
   },
   "source": [
    "#### <span style='background:#4A1810;color:#ffffff;'> Train the model </span>"
   ]
  },
  {
   "cell_type": "code",
   "execution_count": null,
   "metadata": {
    "_kg_hide-output": true,
    "execution": {
     "iopub.execute_input": "2022-12-14T06:45:53.306332Z",
     "iopub.status.busy": "2022-12-14T06:45:53.305883Z",
     "iopub.status.idle": "2022-12-14T06:45:53.312879Z",
     "shell.execute_reply": "2022-12-14T06:45:53.311583Z",
     "shell.execute_reply.started": "2022-12-14T06:45:53.306298Z"
    },
    "papermill": {
     "duration": 0.479683,
     "end_time": "2022-12-11T11:55:03.967743",
     "exception": true,
     "start_time": "2022-12-11T11:55:03.48806",
     "status": "failed"
    },
    "tags": []
   },
   "outputs": [],
   "source": [
    "%%time\n",
    "\n",
    "early_stopping_callbacks = tensorflow.keras.callbacks.EarlyStopping(patience = 15,\n",
    "                                                                    restore_best_weights = True,\n",
    "                                                                    verbose = 1)"
   ]
  },
  {
   "cell_type": "code",
   "execution_count": null,
   "metadata": {},
   "outputs": [],
   "source": [
    "%%time\n",
    "\n",
    "history = model1.fit_generator(train_set, epochs = 20,\n",
    "                              validation_data = validation_set,\n",
    "                              steps_per_epoch = 100,\n",
    "                              callbacks = [early_stopping_callbacks])"
   ]
  },
  {
   "cell_type": "code",
   "execution_count": null,
   "metadata": {
    "execution": {
     "iopub.execute_input": "2022-12-13T19:10:53.608229Z",
     "iopub.status.busy": "2022-12-13T19:10:53.606563Z",
     "iopub.status.idle": "2022-12-13T19:10:53.616989Z",
     "shell.execute_reply": "2022-12-13T19:10:53.615768Z",
     "shell.execute_reply.started": "2022-12-13T19:10:53.608177Z"
    }
   },
   "outputs": [],
   "source": [
    "model1.input, model1.output"
   ]
  },
  {
   "cell_type": "code",
   "execution_count": null,
   "metadata": {
    "execution": {
     "iopub.execute_input": "2022-12-13T19:10:53.619405Z",
     "iopub.status.busy": "2022-12-13T19:10:53.618498Z",
     "iopub.status.idle": "2022-12-13T19:10:53.791039Z",
     "shell.execute_reply": "2022-12-13T19:10:53.789796Z",
     "shell.execute_reply.started": "2022-12-13T19:10:53.619367Z"
    },
    "papermill": {
     "duration": null,
     "end_time": null,
     "exception": null,
     "start_time": null,
     "status": "pending"
    },
    "tags": []
   },
   "outputs": [],
   "source": [
    "plt.figure(figsize = (10, 5))\n",
    "plt.title(\"Model loss\")\n",
    "plt.plot(history.history[\"loss\"], \"go-\")\n",
    "plt.plot(history.history[\"val_loss\"], \"ro-\")\n",
    "plt.legend([\"loss\", \"val_loss\"])\n",
    "plt.show()"
   ]
  },
  {
   "cell_type": "code",
   "execution_count": null,
   "metadata": {
    "execution": {
     "iopub.execute_input": "2022-12-13T19:10:53.90009Z",
     "iopub.status.busy": "2022-12-13T19:10:53.899639Z",
     "iopub.status.idle": "2022-12-13T19:10:54.059938Z",
     "shell.execute_reply": "2022-12-13T19:10:54.05906Z",
     "shell.execute_reply.started": "2022-12-13T19:10:53.900051Z"
    },
    "papermill": {
     "duration": null,
     "end_time": null,
     "exception": null,
     "start_time": null,
     "status": "pending"
    },
    "tags": []
   },
   "outputs": [],
   "source": [
    "plt.figure(figsize = (10, 5))\n",
    "plt.title(\"Model accuracy\")\n",
    "\n",
    "plt.plot(history.history[\"accuracy\"], \"go-\")\n",
    "plt.plot(history.history[\"val_accuracy\"], \"ro-\")\n",
    "plt.legend([\"accuracy\", \"val_accuracy\"])\n",
    "plt.show()"
   ]
  },
  {
   "cell_type": "markdown",
   "metadata": {},
   "source": []
  },
  {
   "cell_type": "code",
   "execution_count": null,
   "metadata": {
    "execution": {
     "iopub.status.busy": "2022-12-13T14:36:24.526263Z",
     "iopub.status.idle": "2022-12-13T14:36:24.526668Z",
     "shell.execute_reply": "2022-12-13T14:36:24.52649Z",
     "shell.execute_reply.started": "2022-12-13T14:36:24.526471Z"
    }
   },
   "outputs": [],
   "source": [
    "#scores = model1.evaluate_generator(test_set)\n",
    "#print(\"\\n%s: %.3f%%\" % (model1.metrics_names[0], scores[0]*100))\n",
    "#print(\"\\n%s: %.3f%%\" % (model1.metrics_names[1], scores[1]*100))\n",
    "\n",
    "test_loss, test_accuracy = model1.evaluate(test_set, steps = 50)\n",
    "print(\"The testing accuracy is: \", test_accuracy * 100, \"%\")\n",
    "print(\"The testing loss is: \", test_loss * 100, \"%\")"
   ]
  },
  {
   "cell_type": "markdown",
   "metadata": {},
   "source": [
    "![](https://slideplayer.com/slide/15398015/93/images/5/Transfer+Learning.jpg)"
   ]
  },
  {
   "cell_type": "markdown",
   "metadata": {
    "papermill": {
     "duration": null,
     "end_time": null,
     "exception": null,
     "start_time": null,
     "status": "pending"
    },
    "tags": []
   },
   "source": [
    "<a id='top'></a>\n",
    "<div class=\"list-group\" id=\"list-tab\" role=\"tablist\">\n",
    "<p style=\"background-color:#4A1810; font-family:sans-serif;color:#FFFFFF;font-size:130%;text-align:center;border-radius:55px 1px;\">VGG16 model</p>"
   ]
  },
  {
   "cell_type": "code",
   "execution_count": null,
   "metadata": {
    "execution": {
     "iopub.execute_input": "2022-12-14T06:05:21.767114Z",
     "iopub.status.busy": "2022-12-14T06:05:21.766661Z",
     "iopub.status.idle": "2022-12-14T06:05:21.898865Z",
     "shell.execute_reply": "2022-12-14T06:05:21.897519Z",
     "shell.execute_reply.started": "2022-12-14T06:05:21.767075Z"
    },
    "papermill": {
     "duration": null,
     "end_time": null,
     "exception": null,
     "start_time": null,
     "status": "pending"
    },
    "tags": []
   },
   "outputs": [],
   "source": [
    "model2 = Sequential()\n",
    "model2.add(base_model1)\n",
    "model2.add(Flatten())\n",
    "\n",
    "model2.add(Dense(128, activation = \"relu\"))\n",
    "model2.add(Dense(64, activation = \"relu\"))\n",
    "model2.add(Dense(32, activation = \"relu\"))\n",
    "model2.add(Dense(1, activation = \"sigmoid\"))\n",
    "\n",
    "# freeze the layers\n",
    "for layer in base_model1.layers:\n",
    "    layer.trainable = False\n",
    "\n",
    "model2.compile(optimizer = \"adam\", loss = \"binary_crossentropy\", metrics = [\"accuracy\"])"
   ]
  },
  {
   "cell_type": "code",
   "execution_count": null,
   "metadata": {
    "_kg_hide-output": true,
    "execution": {
     "iopub.execute_input": "2022-12-13T19:36:10.644924Z",
     "iopub.status.busy": "2022-12-13T19:36:10.644044Z",
     "iopub.status.idle": "2022-12-13T19:37:04.651222Z",
     "shell.execute_reply": "2022-12-13T19:37:04.649559Z",
     "shell.execute_reply.started": "2022-12-13T19:36:10.644868Z"
    },
    "papermill": {
     "duration": null,
     "end_time": null,
     "exception": null,
     "start_time": null,
     "status": "pending"
    },
    "tags": []
   },
   "outputs": [],
   "source": [
    "%%time\n",
    "\n",
    "history = model2.fit_generator(train_set, epochs = 20, validation_data = validation_set, steps_per_epoch = 100,\n",
    "                               callbacks = [early_stopping_callbacks])"
   ]
  },
  {
   "cell_type": "markdown",
   "metadata": {
    "papermill": {
     "duration": null,
     "end_time": null,
     "exception": null,
     "start_time": null,
     "status": "pending"
    },
    "tags": []
   },
   "source": [
    "### Visualize the performance of model2"
   ]
  },
  {
   "cell_type": "code",
   "execution_count": null,
   "metadata": {
    "execution": {
     "iopub.status.busy": "2022-12-13T14:36:24.536402Z",
     "iopub.status.idle": "2022-12-13T14:36:24.537067Z",
     "shell.execute_reply": "2022-12-13T14:36:24.536851Z",
     "shell.execute_reply.started": "2022-12-13T14:36:24.53683Z"
    },
    "papermill": {
     "duration": null,
     "end_time": null,
     "exception": null,
     "start_time": null,
     "status": "pending"
    },
    "tags": []
   },
   "outputs": [],
   "source": [
    "plt.figure(figsize = (10, 5))\n",
    "plt.title(\"Model accuracy\")\n",
    "plt.plot(history.history[\"accuracy\"], \"go-\")\n",
    "plt.plot(history.history[\"val_accuracy\"], \"ro-\")\n",
    "plt.legend([\"accuracy\", \"val_accuracy\"])\n",
    "plt.show()"
   ]
  },
  {
   "cell_type": "code",
   "execution_count": null,
   "metadata": {
    "execution": {
     "iopub.status.busy": "2022-12-13T14:36:24.538116Z",
     "iopub.status.idle": "2022-12-13T14:36:24.53889Z",
     "shell.execute_reply": "2022-12-13T14:36:24.538672Z",
     "shell.execute_reply.started": "2022-12-13T14:36:24.538641Z"
    },
    "papermill": {
     "duration": null,
     "end_time": null,
     "exception": null,
     "start_time": null,
     "status": "pending"
    },
    "tags": []
   },
   "outputs": [],
   "source": [
    "plt.figure(figsize = (10, 5))\n",
    "plt.title(\"Model loss\")\n",
    "plt.plot(history.history[\"loss\"], \"go-\")\n",
    "plt.plot(history.history[\"val_loss\"], \"ro-\")\n",
    "plt.legend([\"loss\", \"val_loss\"])\n",
    "plt.show()"
   ]
  },
  {
   "cell_type": "markdown",
   "metadata": {},
   "source": [
    "### Evaluate model2 on the test set"
   ]
  },
  {
   "cell_type": "code",
   "execution_count": null,
   "metadata": {
    "execution": {
     "iopub.status.busy": "2022-12-13T14:36:24.540334Z",
     "iopub.status.idle": "2022-12-13T14:36:24.541185Z",
     "shell.execute_reply": "2022-12-13T14:36:24.540947Z",
     "shell.execute_reply.started": "2022-12-13T14:36:24.540926Z"
    }
   },
   "outputs": [],
   "source": [
    "#scores = model1.evaluate_generator(test_set)\n",
    "#print(\"\\n%s: %.3f%%\" % (model1.metrics_names[0], scores[0]*100))\n",
    "#print(\"\\n%s: %.3f%%\" % (model1.metrics_names[1], scores[1]*100))\n",
    "\n",
    "test_loss, test_accuracy = model2.evaluate(test_set, steps = 50)\n",
    "print(\"The testing accuracy is: \", test_accuracy * 100, \"%\")\n",
    "print(\"The testing loss is: \", test_loss * 100, \"%\")"
   ]
  },
  {
   "cell_type": "markdown",
   "metadata": {},
   "source": [
    "<a id='top'></a>\n",
    "<div class=\"list-group\" id=\"list-tab\" role=\"tablist\">\n",
    "<p style=\"background-color:#4A1810; font-family:sans-serif;color:#FFFFFF;font-size:130%;text-align:center;border-radius:55px 1px;\">ResNet50V2 model</p>"
   ]
  },
  {
   "cell_type": "code",
   "execution_count": null,
   "metadata": {
    "execution": {
     "iopub.execute_input": "2022-12-14T06:46:17.319599Z",
     "iopub.status.busy": "2022-12-14T06:46:17.319211Z",
     "iopub.status.idle": "2022-12-14T06:46:23.546054Z",
     "shell.execute_reply": "2022-12-14T06:46:23.544776Z",
     "shell.execute_reply.started": "2022-12-14T06:46:17.319568Z"
    }
   },
   "outputs": [],
   "source": [
    "base_model2 = tensorflow.keras.applications.ResNet50V2(weights = \"imagenet\",\n",
    "                                                       input_shape = (224, 224, 3),\n",
    "                                                       pooling = \"max\", include_top = False,\n",
    "                                                       classes = 2)\n",
    "\n",
    "for layer in base_model2.layers:\n",
    "    layer.trainable = False\n",
    "    \n",
    "#base_model2.summary()"
   ]
  },
  {
   "cell_type": "code",
   "execution_count": null,
   "metadata": {
    "execution": {
     "iopub.execute_input": "2022-12-14T06:46:34.50004Z",
     "iopub.status.busy": "2022-12-14T06:46:34.499628Z",
     "iopub.status.idle": "2022-12-14T06:46:34.968989Z",
     "shell.execute_reply": "2022-12-14T06:46:34.968041Z",
     "shell.execute_reply.started": "2022-12-14T06:46:34.500008Z"
    }
   },
   "outputs": [],
   "source": [
    "model3 = Sequential()\n",
    "model3.add(base_model2)\n",
    "model3.add(Flatten())\n",
    "\n",
    "model3.add(Dense(128, activation = \"relu\"))\n",
    "model3.add(Dense(64, activation = \"relu\"))\n",
    "model3.add(Dense(32, activation = \"relu\"))\n",
    "model3.add(Dense(1, activation = \"sigmoid\"))\n",
    "\n",
    "# freeze the layers\n",
    "for layer in base_model2.layers:\n",
    "    layer.trainable = False\n",
    "\n",
    "model3.compile(optimizer = \"adam\", loss = \"binary_crossentropy\", metrics = [\"accuracy\"])"
   ]
  },
  {
   "cell_type": "code",
   "execution_count": null,
   "metadata": {
    "execution": {
     "iopub.execute_input": "2022-12-14T06:46:50.366313Z",
     "iopub.status.busy": "2022-12-14T06:46:50.365914Z",
     "iopub.status.idle": "2022-12-14T06:47:11.289206Z",
     "shell.execute_reply": "2022-12-14T06:47:11.287992Z",
     "shell.execute_reply.started": "2022-12-14T06:46:50.366282Z"
    }
   },
   "outputs": [],
   "source": [
    "%%time\n",
    "\n",
    "history = model3.fit_generator(train_set, epochs = 20, validation_data = validation_set, steps_per_epoch = 100,\n",
    "                              callbacks = [early_stopping_callbacks])"
   ]
  },
  {
   "cell_type": "markdown",
   "metadata": {},
   "source": [
    "### Visualize performance of model3"
   ]
  },
  {
   "cell_type": "code",
   "execution_count": null,
   "metadata": {
    "execution": {
     "iopub.status.busy": "2022-12-13T14:36:24.548799Z",
     "iopub.status.idle": "2022-12-13T14:36:24.549779Z",
     "shell.execute_reply": "2022-12-13T14:36:24.549585Z",
     "shell.execute_reply.started": "2022-12-13T14:36:24.549563Z"
    }
   },
   "outputs": [],
   "source": [
    "plt.figure(figsize = (10, 5))\n",
    "plt.title(\"Model accuracy\")\n",
    "plt.plot(history.history[\"accuracy\"], \"go-\")\n",
    "plt.plot(history.history[\"val_accuracy\"], \"ro-\")\n",
    "plt.legend([\"accuracy\", \"val_accuracy\"])\n",
    "plt.show()"
   ]
  },
  {
   "cell_type": "code",
   "execution_count": null,
   "metadata": {
    "execution": {
     "iopub.status.busy": "2022-12-13T14:36:24.551048Z",
     "iopub.status.idle": "2022-12-13T14:36:24.551465Z",
     "shell.execute_reply": "2022-12-13T14:36:24.551291Z",
     "shell.execute_reply.started": "2022-12-13T14:36:24.551272Z"
    }
   },
   "outputs": [],
   "source": [
    "plt.figure(figsize = (10, 5))\n",
    "plt.title(\"Model loss\")\n",
    "plt.plot(history.history[\"loss\"], \"go-\")\n",
    "plt.plot(history.history[\"val_loss\"], \"ro-\")\n",
    "plt.legend([\"loss\", \"val_loss\"])\n",
    "plt.show()"
   ]
  },
  {
   "cell_type": "markdown",
   "metadata": {},
   "source": [
    "### Evaluate model3 on the test set"
   ]
  },
  {
   "cell_type": "code",
   "execution_count": null,
   "metadata": {
    "execution": {
     "iopub.execute_input": "2022-12-14T06:16:38.630189Z",
     "iopub.status.busy": "2022-12-14T06:16:38.629747Z",
     "iopub.status.idle": "2022-12-14T06:16:45.224293Z",
     "shell.execute_reply": "2022-12-14T06:16:45.221954Z",
     "shell.execute_reply.started": "2022-12-14T06:16:38.630147Z"
    }
   },
   "outputs": [],
   "source": [
    "#scores = model1.evaluate_generator(test_set)\n",
    "#print(\"\\n%s: %.3f%%\" % (model1.metrics_names[0], scores[0]*100))\n",
    "#print(\"\\n%s: %.3f%%\" % (model1.metrics_names[1], scores[1]*100))\n",
    "\n",
    "test_loss, test_accuracy = model3.evaluate(test_set, steps = 50)\n",
    "print(\"The testing accuracy is: \", test_accuracy * 100, \"%\")\n",
    "print(\"The testing loss is: \", test_loss * 100, \"%\")"
   ]
  },
  {
   "cell_type": "markdown",
   "metadata": {},
   "source": [
    "<a id='top'></a>\n",
    "<div class=\"list-group\" id=\"list-tab\" role=\"tablist\">\n",
    "<p style=\"background-color:#4A1810; font-family:sans-serif;color:#FFFFFF;font-size:130%;text-align:center;border-radius:55px 1px;\">Prediction of a new image </p>"
   ]
  },
  {
   "cell_type": "code",
   "execution_count": null,
   "metadata": {
    "execution": {
     "iopub.execute_input": "2022-12-14T06:47:19.264349Z",
     "iopub.status.busy": "2022-12-14T06:47:19.263937Z",
     "iopub.status.idle": "2022-12-14T06:47:20.63987Z",
     "shell.execute_reply": "2022-12-14T06:47:20.638869Z",
     "shell.execute_reply.started": "2022-12-14T06:47:19.264311Z"
    }
   },
   "outputs": [],
   "source": [
    "%%time\n",
    "\n",
    "new_image_path = \"/kaggle/input/pneumonia-lungs/download.jpg\"\n",
    "test_image = image.load_img(new_image_path, target_size = (224, 224))\n",
    "test_image = image.img_to_array(test_image)\n",
    "test_image = np.expand_dims(test_image, axis = 0)\n",
    "#test_image = np.reshape(test_image, (1, 224, 224, 3))\n",
    "test_image = test_image / 255\n",
    "\n",
    "#___________________________________________________________________\n",
    "\n",
    "result = model3.predict(test_image)\n",
    "train_set.class_indices\n",
    "if result[0][0] == 0:\n",
    "    prediction = \"N O R M A L\"\n",
    "else:\n",
    "    prediction = \"P N E U M O N I A\"\n",
    "\n",
    "print(prediction)"
   ]
  },
  {
   "cell_type": "markdown",
   "metadata": {},
   "source": [
    "### Save the model to disk"
   ]
  },
  {
   "cell_type": "code",
   "execution_count": null,
   "metadata": {
    "execution": {
     "iopub.execute_input": "2022-12-14T06:47:25.202074Z",
     "iopub.status.busy": "2022-12-14T06:47:25.201675Z",
     "iopub.status.idle": "2022-12-14T06:47:25.573751Z",
     "shell.execute_reply": "2022-12-14T06:47:25.572544Z",
     "shell.execute_reply.started": "2022-12-14T06:47:25.202042Z"
    }
   },
   "outputs": [],
   "source": [
    "model3.save(\"my_pneumonia_detection_model.h5\")\n",
    "print(colored(\"Model3 was succesfully saved to disk...\", color = \"green\", attrs = [\"bold\", \"dark\"]))"
   ]
  },
  {
   "cell_type": "markdown",
   "metadata": {},
   "source": [
    "### Some time later you may need that model to use"
   ]
  },
  {
   "cell_type": "code",
   "execution_count": null,
   "metadata": {
    "execution": {
     "iopub.execute_input": "2022-12-14T06:47:30.019143Z",
     "iopub.status.busy": "2022-12-14T06:47:30.018705Z",
     "iopub.status.idle": "2022-12-14T06:47:32.220682Z",
     "shell.execute_reply": "2022-12-14T06:47:32.219547Z",
     "shell.execute_reply.started": "2022-12-14T06:47:30.019098Z"
    }
   },
   "outputs": [],
   "source": [
    "model_loaded = tensorflow.keras.models.load_model(\"/kaggle/working/my_pneumonia_detection_model.h5\")\n",
    "model_loaded.summary()"
   ]
  },
  {
   "cell_type": "markdown",
   "metadata": {},
   "source": [
    "### Use loaded model to predict new image"
   ]
  },
  {
   "cell_type": "code",
   "execution_count": null,
   "metadata": {
    "execution": {
     "iopub.execute_input": "2022-12-14T06:47:51.736558Z",
     "iopub.status.busy": "2022-12-14T06:47:51.736085Z",
     "iopub.status.idle": "2022-12-14T06:47:55.254821Z",
     "shell.execute_reply": "2022-12-14T06:47:55.253566Z",
     "shell.execute_reply.started": "2022-12-14T06:47:51.736494Z"
    }
   },
   "outputs": [],
   "source": [
    "def image_prediction(new_image_path):\n",
    "    test_image = image.load_img(new_image_path, target_size = (224, 224))\n",
    "    test_image = image.img_to_array(test_image)\n",
    "    #test_image = np.reshape(test_image, (224, 224, 3))\n",
    "    test_image = np.expand_dims(test_image, axis = 0)\n",
    "    test_image = test_image / 255.0\n",
    "    model_loaded = tensorflow.keras.models.load_model(\"/kaggle/working/my_pneumonia_detection_model.h5\")\n",
    "    prediction = model_loaded.predict(test_image)\n",
    "    test_image_for_plotting = image.load_img(new_image_path, target_size = (224, 224))\n",
    "    plt.imshow(test_image_for_plotting)\n",
    "    if(prediction[0] > 0.5):\n",
    "        statistic = prediction[0] * 100 \n",
    "        print(\"This image is %.3f percent %s\"% (statistic, \"P N E U M O N I A\"))\n",
    "    else:\n",
    "        statistic = (1.0 - prediction[0]) * 100\n",
    "        print(\"This image is %.3f percent %s\" % (statistic, \"N O R M A L\"))\n",
    "     \n",
    " \n",
    "# call and use the function\n",
    "image_prediction(\"/kaggle/input/pneumonia-lung-image-for-test/image.webp\")"
   ]
  },
  {
   "cell_type": "markdown",
   "metadata": {},
   "source": [
    "### Get test data and test labels"
   ]
  },
  {
   "cell_type": "code",
   "execution_count": null,
   "metadata": {
    "execution": {
     "iopub.execute_input": "2022-12-14T06:48:02.452133Z",
     "iopub.status.busy": "2022-12-14T06:48:02.451719Z",
     "iopub.status.idle": "2022-12-14T06:48:02.458133Z",
     "shell.execute_reply": "2022-12-14T06:48:02.456756Z",
     "shell.execute_reply.started": "2022-12-14T06:48:02.452102Z"
    }
   },
   "outputs": [],
   "source": [
    "test_dir = \"../input/chest-xray-pneumonia/chest_xray/test\"\n",
    "test_data, test_labels = [], []"
   ]
  },
  {
   "cell_type": "code",
   "execution_count": null,
   "metadata": {
    "execution": {
     "iopub.execute_input": "2022-12-14T06:48:05.407968Z",
     "iopub.status.busy": "2022-12-14T06:48:05.407591Z",
     "iopub.status.idle": "2022-12-14T06:48:15.753376Z",
     "shell.execute_reply": "2022-12-14T06:48:15.752072Z",
     "shell.execute_reply.started": "2022-12-14T06:48:05.407938Z"
    }
   },
   "outputs": [],
   "source": [
    "for i in [\"/NORMAL/\", \"/PNEUMONIA/\"]:\n",
    "    for image in (os.listdir(test_dir + i)):\n",
    "        image = plt.imread(test_dir + i + image)\n",
    "        image = cv2.resize(image, (224, 224))\n",
    "        image = np.dstack([image, image, image])\n",
    "        image = image.astype(\"float32\") / 255\n",
    "        if i == \"/NORMAL/\":\n",
    "            label = 0\n",
    "        elif i == \"/PNEUMONIA/\":\n",
    "            label = 1\n",
    "        test_data.append(image)\n",
    "        test_labels.append(label)\n",
    "\n",
    "test_data = np.array(test_data)\n",
    "test_labels = np.array(test_labels)"
   ]
  },
  {
   "cell_type": "markdown",
   "metadata": {},
   "source": [
    "### Plot confusion matrix"
   ]
  },
  {
   "cell_type": "code",
   "execution_count": null,
   "metadata": {
    "execution": {
     "iopub.execute_input": "2022-12-14T07:31:50.639126Z",
     "iopub.status.busy": "2022-12-14T07:31:50.638598Z",
     "iopub.status.idle": "2022-12-14T07:32:27.988565Z",
     "shell.execute_reply": "2022-12-14T07:32:27.987259Z",
     "shell.execute_reply.started": "2022-12-14T07:31:50.639081Z"
    }
   },
   "outputs": [],
   "source": [
    "print(\"_______C o n f u s i o n   m a t r i x_______\\n\")\n",
    "\n",
    "predictions = model_loaded.predict(test_data)\n",
    "conf_m = confusion_matrix(test_labels, np.round(predictions))\n",
    "acc = accuracy_score(test_labels, np.round(predictions)) * 100\n",
    "tn, fp, fn, tp = conf_m.ravel()\n",
    "\n",
    "fig, ax = plot_confusion_matrix(conf_mat = conf_m, figsize = (6, 6), cmap = matplotlib.pyplot.cm.Reds)\n",
    "plt.show()"
   ]
  },
  {
   "cell_type": "markdown",
   "metadata": {},
   "source": [
    "### Get test metrics"
   ]
  },
  {
   "cell_type": "code",
   "execution_count": null,
   "metadata": {
    "execution": {
     "iopub.execute_input": "2022-12-14T06:18:23.45734Z",
     "iopub.status.busy": "2022-12-14T06:18:23.456709Z",
     "iopub.status.idle": "2022-12-14T06:18:23.473611Z",
     "shell.execute_reply": "2022-12-14T06:18:23.471912Z",
     "shell.execute_reply.started": "2022-12-14T06:18:23.457283Z"
    }
   },
   "outputs": [],
   "source": [
    "%%time\n",
    "\n",
    "precision = tp / (tp + fp) * 100\n",
    "recall = tp / (tp + fn) * 100\n",
    "print(\"Accuracy: {}%\".format(acc))\n",
    "print(\"Precision: {}%\".format(precision))\n",
    "print(\"Recall: {}%\".format(recall))\n",
    "print(\"F1-score: {}\".format(2 * precision * recall / (precision + recall)))   "
   ]
  },
  {
   "cell_type": "markdown",
   "metadata": {},
   "source": [
    "## Let's display correct and incorrect predicted classes"
   ]
  },
  {
   "cell_type": "code",
   "execution_count": null,
   "metadata": {
    "execution": {
     "iopub.execute_input": "2022-12-14T07:16:00.205765Z",
     "iopub.status.busy": "2022-12-14T07:16:00.205368Z",
     "iopub.status.idle": "2022-12-14T07:16:37.96137Z",
     "shell.execute_reply": "2022-12-14T07:16:37.960216Z",
     "shell.execute_reply.started": "2022-12-14T07:16:00.205734Z"
    }
   },
   "outputs": [],
   "source": [
    "predictions = list()\n",
    "preds = model_loaded.predict(test_data)\n",
    "for i in preds:\n",
    "    if i >= 0.5:\n",
    "        predictions.append(1)\n",
    "    else:\n",
    "        predictions.append(0)\n",
    "predictions[:15]"
   ]
  },
  {
   "cell_type": "markdown",
   "metadata": {},
   "source": [
    "<mark>np.nonzero() function is used to compute the indices of the elements that are non-zero. <\\mark> "
   ]
  },
  {
   "cell_type": "code",
   "execution_count": null,
   "metadata": {
    "execution": {
     "iopub.execute_input": "2022-12-14T07:22:10.464622Z",
     "iopub.status.busy": "2022-12-14T07:22:10.464214Z",
     "iopub.status.idle": "2022-12-14T07:22:10.472475Z",
     "shell.execute_reply": "2022-12-14T07:22:10.471263Z",
     "shell.execute_reply.started": "2022-12-14T07:22:10.464586Z"
    }
   },
   "outputs": [],
   "source": [
    "correct_predictions = np.nonzero(predictions == test_labels)[0]\n",
    "incorrect_predictions = np.nonzero(predictions != test_labels)[0]\n",
    "\n",
    "# let's look at indices of correct predictions\n",
    "print(\"Indices of correct predictions:\\n\", correct_predictions[:15])\n",
    "\n",
    "# let's look at indices of incorrect correct predictions\n",
    "print(\"\\nIndices of incorrect predictions:\\n\", incorrect_predictions[:15])"
   ]
  },
  {
   "cell_type": "code",
   "execution_count": null,
   "metadata": {
    "execution": {
     "iopub.execute_input": "2022-12-14T07:30:11.982446Z",
     "iopub.status.busy": "2022-12-14T07:30:11.982039Z",
     "iopub.status.idle": "2022-12-14T07:30:12.459178Z",
     "shell.execute_reply": "2022-12-14T07:30:12.457615Z",
     "shell.execute_reply.started": "2022-12-14T07:30:11.982407Z"
    }
   },
   "outputs": [],
   "source": [
    "# display correct predictions\n",
    "\n",
    "i = 0\n",
    "for a in correct_predictions[:3]:\n",
    "    plt.figure(figsize = (8, 6), dpi = 85)\n",
    "    plt.subplot(3, 1, i + 1)\n",
    "    plt.xticks([]), plt.yticks([])\n",
    "    plt.imshow(test_data[a].reshape(224, 224, 3))\n",
    "    plt.title(\"Predicted class {} --- actual class {}\".format(predictions[a], test_labels[a]))\n",
    "    plt.tight_layout()\n",
    "    i += 1"
   ]
  },
  {
   "cell_type": "code",
   "execution_count": null,
   "metadata": {
    "execution": {
     "iopub.execute_input": "2022-12-14T07:30:44.167723Z",
     "iopub.status.busy": "2022-12-14T07:30:44.166852Z",
     "iopub.status.idle": "2022-12-14T07:30:44.626572Z",
     "shell.execute_reply": "2022-12-14T07:30:44.625018Z",
     "shell.execute_reply.started": "2022-12-14T07:30:44.167684Z"
    }
   },
   "outputs": [],
   "source": [
    "# display incorrect predictions\n",
    "\n",
    "i = 0\n",
    "for a in incorrect_predictions[:3]:\n",
    "    plt.figure(figsize = (8, 6), dpi = 85)\n",
    "    plt.subplot(3, 1, i + 1)\n",
    "    plt.xticks([])\n",
    "    plt.yticks([])\n",
    "    plt.imshow(test_data[a].reshape(224, 224, 3))\n",
    "    plt.title(\"Predicted class {} --- actual class {}\".format(predictions[a], test_labels[a]))\n",
    "    plt.tight_layout()\n",
    "    i += 1"
   ]
  }
 ],
 "metadata": {
  "kernelspec": {
   "display_name": "Python 3 (ipykernel)",
   "language": "python",
   "name": "python3"
  },
  "language_info": {
   "codemirror_mode": {
    "name": "ipython",
    "version": 3
   },
   "file_extension": ".py",
   "mimetype": "text/x-python",
   "name": "python",
   "nbconvert_exporter": "python",
   "pygments_lexer": "ipython3",
   "version": "3.10.5"
  }
 },
 "nbformat": 4,
 "nbformat_minor": 4
}
